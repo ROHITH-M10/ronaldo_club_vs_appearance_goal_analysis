{
  "nbformat": 4,
  "nbformat_minor": 0,
  "metadata": {
    "colab": {
      "provenance": [],
      "authorship_tag": "ABX9TyOlc2kK/CARyMhmFC8yhHLG",
      "include_colab_link": true
    },
    "kernelspec": {
      "name": "python3",
      "display_name": "Python 3"
    },
    "language_info": {
      "name": "python"
    }
  },
  "cells": [
    {
      "cell_type": "markdown",
      "metadata": {
        "id": "view-in-github",
        "colab_type": "text"
      },
      "source": [
        "<a href=\"https://colab.research.google.com/github/ROHITH-M10/ronaldo_club_vs_appearance_goal_analysis/blob/main/RONALDO_DATA_ANALYSIS.ipynb\" target=\"_parent\"><img src=\"https://colab.research.google.com/assets/colab-badge.svg\" alt=\"Open In Colab\"/></a>"
      ]
    },
    {
      "cell_type": "code",
      "execution_count": 1,
      "metadata": {
        "id": "zD6ZFR0KULVS"
      },
      "outputs": [],
      "source": [
        "import numpy as np\n",
        "import matplotlib.pyplot as plt\n",
        "import pandas as pd"
      ]
    },
    {
      "cell_type": "code",
      "source": [
        "df = pd.read_csv('https://raw.githubusercontent.com/azminewasi/Cristiano-Ronaldo-Club-Goals/main/data.csv')\n",
        "df\n",
        "df.ndim"
      ],
      "metadata": {
        "colab": {
          "base_uri": "https://localhost:8080/"
        },
        "id": "Ke_u6J7qU2-J",
        "outputId": "15e33636-6d48-4128-9ad4-6d20c47aab35"
      },
      "execution_count": 2,
      "outputs": [
        {
          "output_type": "execute_result",
          "data": {
            "text/plain": [
              "2"
            ]
          },
          "metadata": {},
          "execution_count": 2
        }
      ]
    },
    {
      "cell_type": "code",
      "source": [
        "df.size"
      ],
      "metadata": {
        "colab": {
          "base_uri": "https://localhost:8080/"
        },
        "id": "dWOHEL_s2OiM",
        "outputId": "543a1376-d162-415d-9578-9cf1875ee3c1"
      },
      "execution_count": 3,
      "outputs": [
        {
          "output_type": "execute_result",
          "data": {
            "text/plain": [
              "9230"
            ]
          },
          "metadata": {},
          "execution_count": 3
        }
      ]
    },
    {
      "cell_type": "code",
      "source": [
        "df.shape"
      ],
      "metadata": {
        "colab": {
          "base_uri": "https://localhost:8080/"
        },
        "id": "4PV-Zh_F2urX",
        "outputId": "6da48725-b596-4342-b000-83452d02ba23"
      },
      "execution_count": 4,
      "outputs": [
        {
          "output_type": "execute_result",
          "data": {
            "text/plain": [
              "(710, 13)"
            ]
          },
          "metadata": {},
          "execution_count": 4
        }
      ]
    },
    {
      "cell_type": "code",
      "source": [
        "type(df)"
      ],
      "metadata": {
        "colab": {
          "base_uri": "https://localhost:8080/"
        },
        "id": "AAu4VHny2zcJ",
        "outputId": "38eeaeb2-0fd4-44b0-92dc-9c693fcefcfc"
      },
      "execution_count": 5,
      "outputs": [
        {
          "output_type": "execute_result",
          "data": {
            "text/plain": [
              "pandas.core.frame.DataFrame"
            ]
          },
          "metadata": {},
          "execution_count": 5
        }
      ]
    },
    {
      "cell_type": "code",
      "source": [
        "df.info()"
      ],
      "metadata": {
        "colab": {
          "base_uri": "https://localhost:8080/"
        },
        "id": "jA6rjd4z-bPP",
        "outputId": "c39c94cb-b6e5-49cf-f22b-b4089b26b25c"
      },
      "execution_count": 6,
      "outputs": [
        {
          "output_type": "stream",
          "name": "stdout",
          "text": [
            "<class 'pandas.core.frame.DataFrame'>\n",
            "RangeIndex: 710 entries, 0 to 709\n",
            "Data columns (total 13 columns):\n",
            " #   Column            Non-Null Count  Dtype \n",
            "---  ------            --------------  ----- \n",
            " 0   Season            710 non-null    object\n",
            " 1   Competition       710 non-null    object\n",
            " 2   Matchday          710 non-null    object\n",
            " 3   Date              710 non-null    object\n",
            " 4   Venue             710 non-null    object\n",
            " 5   Club              710 non-null    object\n",
            " 6   Opponent          710 non-null    object\n",
            " 7   Result            710 non-null    object\n",
            " 8   Playing_Position  652 non-null    object\n",
            " 9   Minute            710 non-null    object\n",
            " 10  At_score          710 non-null    object\n",
            " 11  Type              695 non-null    object\n",
            " 12  Goal_assist       464 non-null    object\n",
            "dtypes: object(13)\n",
            "memory usage: 72.2+ KB\n"
          ]
        }
      ]
    },
    {
      "cell_type": "code",
      "source": [
        "df.isnull().sum()"
      ],
      "metadata": {
        "colab": {
          "base_uri": "https://localhost:8080/"
        },
        "id": "QTlUKOw_26rK",
        "outputId": "fdfdabb2-a9e4-437b-f73b-fc13f5ae26d8"
      },
      "execution_count": 7,
      "outputs": [
        {
          "output_type": "execute_result",
          "data": {
            "text/plain": [
              "Season                0\n",
              "Competition           0\n",
              "Matchday              0\n",
              "Date                  0\n",
              "Venue                 0\n",
              "Club                  0\n",
              "Opponent              0\n",
              "Result                0\n",
              "Playing_Position     58\n",
              "Minute                0\n",
              "At_score              0\n",
              "Type                 15\n",
              "Goal_assist         246\n",
              "dtype: int64"
            ]
          },
          "metadata": {},
          "execution_count": 7
        }
      ]
    },
    {
      "cell_type": "code",
      "source": [
        "df[1:26]"
      ],
      "metadata": {
        "colab": {
          "base_uri": "https://localhost:8080/",
          "height": 1000
        },
        "id": "aSRFfghl3D3Y",
        "outputId": "9f739b2d-5775-4b93-e18c-1076a77a9806"
      },
      "execution_count": 8,
      "outputs": [
        {
          "output_type": "execute_result",
          "data": {
            "text/plain": [
              "   Season                       Competition      Matchday      Date Venue  \\\n",
              "1   02/03                     Liga Portugal             6  10-07-02     H   \n",
              "2   02/03                     Liga Portugal             8  10/26/02     A   \n",
              "3   02/03          Taca de Portugal Placard  Fourth Round  11/24/02     H   \n",
              "4   02/03          Taca de Portugal Placard   Fifth Round  12/18/02     H   \n",
              "5   03/04                    Premier League            11  11-01-03     H   \n",
              "6   03/04                            FA Cup   Fifth Round   2/14/04     H   \n",
              "7   03/04                    Premier League            29   3/20/04     H   \n",
              "8   03/04                    Premier League            32  04-10-04     A   \n",
              "9   03/04                    Premier League            38   5/15/04     A   \n",
              "10  03/04                            FA Cup         Final   5/22/04     H   \n",
              "11  04/05                    Premier League            16  12-04-04     H   \n",
              "12  04/05                            FA Cup   Third Round   1/19/05     A   \n",
              "13  04/05                    Premier League            24   1/22/05     H   \n",
              "14  04/05                    Premier League            25  02-01-05     A   \n",
              "15  04/05                    Premier League            25  02-01-05     A   \n",
              "16  04/05                            FA Cup   Fifth Round   2/19/05     A   \n",
              "17  04/05                            FA Cup   Sixth Round  03-12-05     A   \n",
              "18  04/05                    Premier League            30   3/19/05     H   \n",
              "19  04/05                            FA Cup   Semi-Finals   4/17/05     A   \n",
              "20  05/06  UEFA Champions League Qualifying     3rd round  08-09-05     H   \n",
              "21  05/06                    Premier League            11  10/29/05     A   \n",
              "22  05/06                           EFL Cup   Round of 16  11/30/05     H   \n",
              "23  05/06                    Premier League            20  12/31/05     H   \n",
              "24  05/06                    Premier League            20  12/31/05     H   \n",
              "25  05/06                    Premier League            25  02-04-06     H   \n",
              "\n",
              "                 Club                 Opponent Result Playing_Position Minute  \\\n",
              "1         Sporting CP            Moreirense FC   3:00               LW   90+5   \n",
              "2         Sporting CP              Boavista FC   1:02              NaN     88   \n",
              "3         Sporting CP             CD Estarreja   4:01              NaN     67   \n",
              "4         Sporting CP  FC Oliveira do Hospital   8:01              NaN     13   \n",
              "5   Manchester United            Portsmouth FC   3:00               RW     80   \n",
              "6   Manchester United          Manchester City   4:02               RW     74   \n",
              "7   Manchester United        Tottenham Hotspur   3:00              NaN     89   \n",
              "8   Manchester United          Birmingham City   1:02              NaN     60   \n",
              "9   Manchester United              Aston Villa   0:02              NaN      4   \n",
              "10  Manchester United              Millwall FC   3:00               RW     44   \n",
              "11  Manchester United           Southampton FC   3:00              NaN     87   \n",
              "12  Manchester United              Exeter City   0:02              NaN      9   \n",
              "13  Manchester United              Aston Villa   3:01              NaN      8   \n",
              "14  Manchester United               Arsenal FC   2:04               RW     54   \n",
              "15  Manchester United               Arsenal FC   2:04               RW     58   \n",
              "16  Manchester United               Everton FC   0:02              NaN     58   \n",
              "17  Manchester United           Southampton FC   0:04              NaN   45+1   \n",
              "18  Manchester United                Fulham FC   1:00              NaN     21   \n",
              "19  Manchester United         Newcastle United   1:04               RW     76   \n",
              "20  Manchester United            Debreceni VSC   3:00              NaN     63   \n",
              "21  Manchester United         Middlesbrough FC   4:01              NaN     90   \n",
              "22  Manchester United     West Bromwich Albion   3:01               RW     12   \n",
              "23  Manchester United         Bolton Wanderers   4:01              NaN     68   \n",
              "24  Manchester United         Bolton Wanderers   4:01              NaN     90   \n",
              "25  Manchester United                Fulham FC   4:02              NaN     14   \n",
              "\n",
              "   At_score               Type          Goal_assist  \n",
              "1      3:00             Header            Rui Jorge  \n",
              "2      1:02  Right-footed shot       Carlos Martins  \n",
              "3      3:00   Left-footed shot         Cesar Prates  \n",
              "4      3:00                NaN                  NaN  \n",
              "5      2:00   Direct free kick                  NaN  \n",
              "6      3:00  Right-footed shot                  NaN  \n",
              "7      2:00  Right-footed shot                  NaN  \n",
              "8      1:01             Header           Ryan Giggs  \n",
              "9      0:01  Right-footed shot                  NaN  \n",
              "10     1:00             Header         Gary Neville  \n",
              "11     3:00  Right-footed shot         Gary Neville  \n",
              "12     0:01                NaN         Paul Scholes  \n",
              "13     1:00  Right-footed shot           Louis Saha  \n",
              "14     2:02   Left-footed shot           Ryan Giggs  \n",
              "15     2:03             Tap-in           Ryan Giggs  \n",
              "16     0:02             Tap-in         Paul Scholes  \n",
              "17     0:02   Left-footed shot  Ruud van Nistelrooy  \n",
              "18     1:00  Right-footed shot            Roy Keane  \n",
              "19     1:04  Right-footed shot  Ruud van Nistelrooy  \n",
              "20     3:00  Right-footed shot         Paul Scholes  \n",
              "21     4:01             Header         Paul Scholes  \n",
              "22     1:01            Penalty                  NaN  \n",
              "23     3:01  Right-footed shot         Wayne Rooney  \n",
              "24     4:01   Left-footed shot  Ruud van Nistelrooy  \n",
              "25     2:00   Direct free kick                  NaN  "
            ],
            "text/html": [
              "\n",
              "  <div id=\"df-1c4bbc0f-1f02-4a6e-b79c-6230bf801a5e\">\n",
              "    <div class=\"colab-df-container\">\n",
              "      <div>\n",
              "<style scoped>\n",
              "    .dataframe tbody tr th:only-of-type {\n",
              "        vertical-align: middle;\n",
              "    }\n",
              "\n",
              "    .dataframe tbody tr th {\n",
              "        vertical-align: top;\n",
              "    }\n",
              "\n",
              "    .dataframe thead th {\n",
              "        text-align: right;\n",
              "    }\n",
              "</style>\n",
              "<table border=\"1\" class=\"dataframe\">\n",
              "  <thead>\n",
              "    <tr style=\"text-align: right;\">\n",
              "      <th></th>\n",
              "      <th>Season</th>\n",
              "      <th>Competition</th>\n",
              "      <th>Matchday</th>\n",
              "      <th>Date</th>\n",
              "      <th>Venue</th>\n",
              "      <th>Club</th>\n",
              "      <th>Opponent</th>\n",
              "      <th>Result</th>\n",
              "      <th>Playing_Position</th>\n",
              "      <th>Minute</th>\n",
              "      <th>At_score</th>\n",
              "      <th>Type</th>\n",
              "      <th>Goal_assist</th>\n",
              "    </tr>\n",
              "  </thead>\n",
              "  <tbody>\n",
              "    <tr>\n",
              "      <th>1</th>\n",
              "      <td>02/03</td>\n",
              "      <td>Liga Portugal</td>\n",
              "      <td>6</td>\n",
              "      <td>10-07-02</td>\n",
              "      <td>H</td>\n",
              "      <td>Sporting CP</td>\n",
              "      <td>Moreirense FC</td>\n",
              "      <td>3:00</td>\n",
              "      <td>LW</td>\n",
              "      <td>90+5</td>\n",
              "      <td>3:00</td>\n",
              "      <td>Header</td>\n",
              "      <td>Rui Jorge</td>\n",
              "    </tr>\n",
              "    <tr>\n",
              "      <th>2</th>\n",
              "      <td>02/03</td>\n",
              "      <td>Liga Portugal</td>\n",
              "      <td>8</td>\n",
              "      <td>10/26/02</td>\n",
              "      <td>A</td>\n",
              "      <td>Sporting CP</td>\n",
              "      <td>Boavista FC</td>\n",
              "      <td>1:02</td>\n",
              "      <td>NaN</td>\n",
              "      <td>88</td>\n",
              "      <td>1:02</td>\n",
              "      <td>Right-footed shot</td>\n",
              "      <td>Carlos Martins</td>\n",
              "    </tr>\n",
              "    <tr>\n",
              "      <th>3</th>\n",
              "      <td>02/03</td>\n",
              "      <td>Taca de Portugal Placard</td>\n",
              "      <td>Fourth Round</td>\n",
              "      <td>11/24/02</td>\n",
              "      <td>H</td>\n",
              "      <td>Sporting CP</td>\n",
              "      <td>CD Estarreja</td>\n",
              "      <td>4:01</td>\n",
              "      <td>NaN</td>\n",
              "      <td>67</td>\n",
              "      <td>3:00</td>\n",
              "      <td>Left-footed shot</td>\n",
              "      <td>Cesar Prates</td>\n",
              "    </tr>\n",
              "    <tr>\n",
              "      <th>4</th>\n",
              "      <td>02/03</td>\n",
              "      <td>Taca de Portugal Placard</td>\n",
              "      <td>Fifth Round</td>\n",
              "      <td>12/18/02</td>\n",
              "      <td>H</td>\n",
              "      <td>Sporting CP</td>\n",
              "      <td>FC Oliveira do Hospital</td>\n",
              "      <td>8:01</td>\n",
              "      <td>NaN</td>\n",
              "      <td>13</td>\n",
              "      <td>3:00</td>\n",
              "      <td>NaN</td>\n",
              "      <td>NaN</td>\n",
              "    </tr>\n",
              "    <tr>\n",
              "      <th>5</th>\n",
              "      <td>03/04</td>\n",
              "      <td>Premier League</td>\n",
              "      <td>11</td>\n",
              "      <td>11-01-03</td>\n",
              "      <td>H</td>\n",
              "      <td>Manchester United</td>\n",
              "      <td>Portsmouth FC</td>\n",
              "      <td>3:00</td>\n",
              "      <td>RW</td>\n",
              "      <td>80</td>\n",
              "      <td>2:00</td>\n",
              "      <td>Direct free kick</td>\n",
              "      <td>NaN</td>\n",
              "    </tr>\n",
              "    <tr>\n",
              "      <th>6</th>\n",
              "      <td>03/04</td>\n",
              "      <td>FA Cup</td>\n",
              "      <td>Fifth Round</td>\n",
              "      <td>2/14/04</td>\n",
              "      <td>H</td>\n",
              "      <td>Manchester United</td>\n",
              "      <td>Manchester City</td>\n",
              "      <td>4:02</td>\n",
              "      <td>RW</td>\n",
              "      <td>74</td>\n",
              "      <td>3:00</td>\n",
              "      <td>Right-footed shot</td>\n",
              "      <td>NaN</td>\n",
              "    </tr>\n",
              "    <tr>\n",
              "      <th>7</th>\n",
              "      <td>03/04</td>\n",
              "      <td>Premier League</td>\n",
              "      <td>29</td>\n",
              "      <td>3/20/04</td>\n",
              "      <td>H</td>\n",
              "      <td>Manchester United</td>\n",
              "      <td>Tottenham Hotspur</td>\n",
              "      <td>3:00</td>\n",
              "      <td>NaN</td>\n",
              "      <td>89</td>\n",
              "      <td>2:00</td>\n",
              "      <td>Right-footed shot</td>\n",
              "      <td>NaN</td>\n",
              "    </tr>\n",
              "    <tr>\n",
              "      <th>8</th>\n",
              "      <td>03/04</td>\n",
              "      <td>Premier League</td>\n",
              "      <td>32</td>\n",
              "      <td>04-10-04</td>\n",
              "      <td>A</td>\n",
              "      <td>Manchester United</td>\n",
              "      <td>Birmingham City</td>\n",
              "      <td>1:02</td>\n",
              "      <td>NaN</td>\n",
              "      <td>60</td>\n",
              "      <td>1:01</td>\n",
              "      <td>Header</td>\n",
              "      <td>Ryan Giggs</td>\n",
              "    </tr>\n",
              "    <tr>\n",
              "      <th>9</th>\n",
              "      <td>03/04</td>\n",
              "      <td>Premier League</td>\n",
              "      <td>38</td>\n",
              "      <td>5/15/04</td>\n",
              "      <td>A</td>\n",
              "      <td>Manchester United</td>\n",
              "      <td>Aston Villa</td>\n",
              "      <td>0:02</td>\n",
              "      <td>NaN</td>\n",
              "      <td>4</td>\n",
              "      <td>0:01</td>\n",
              "      <td>Right-footed shot</td>\n",
              "      <td>NaN</td>\n",
              "    </tr>\n",
              "    <tr>\n",
              "      <th>10</th>\n",
              "      <td>03/04</td>\n",
              "      <td>FA Cup</td>\n",
              "      <td>Final</td>\n",
              "      <td>5/22/04</td>\n",
              "      <td>H</td>\n",
              "      <td>Manchester United</td>\n",
              "      <td>Millwall FC</td>\n",
              "      <td>3:00</td>\n",
              "      <td>RW</td>\n",
              "      <td>44</td>\n",
              "      <td>1:00</td>\n",
              "      <td>Header</td>\n",
              "      <td>Gary Neville</td>\n",
              "    </tr>\n",
              "    <tr>\n",
              "      <th>11</th>\n",
              "      <td>04/05</td>\n",
              "      <td>Premier League</td>\n",
              "      <td>16</td>\n",
              "      <td>12-04-04</td>\n",
              "      <td>H</td>\n",
              "      <td>Manchester United</td>\n",
              "      <td>Southampton FC</td>\n",
              "      <td>3:00</td>\n",
              "      <td>NaN</td>\n",
              "      <td>87</td>\n",
              "      <td>3:00</td>\n",
              "      <td>Right-footed shot</td>\n",
              "      <td>Gary Neville</td>\n",
              "    </tr>\n",
              "    <tr>\n",
              "      <th>12</th>\n",
              "      <td>04/05</td>\n",
              "      <td>FA Cup</td>\n",
              "      <td>Third Round</td>\n",
              "      <td>1/19/05</td>\n",
              "      <td>A</td>\n",
              "      <td>Manchester United</td>\n",
              "      <td>Exeter City</td>\n",
              "      <td>0:02</td>\n",
              "      <td>NaN</td>\n",
              "      <td>9</td>\n",
              "      <td>0:01</td>\n",
              "      <td>NaN</td>\n",
              "      <td>Paul Scholes</td>\n",
              "    </tr>\n",
              "    <tr>\n",
              "      <th>13</th>\n",
              "      <td>04/05</td>\n",
              "      <td>Premier League</td>\n",
              "      <td>24</td>\n",
              "      <td>1/22/05</td>\n",
              "      <td>H</td>\n",
              "      <td>Manchester United</td>\n",
              "      <td>Aston Villa</td>\n",
              "      <td>3:01</td>\n",
              "      <td>NaN</td>\n",
              "      <td>8</td>\n",
              "      <td>1:00</td>\n",
              "      <td>Right-footed shot</td>\n",
              "      <td>Louis Saha</td>\n",
              "    </tr>\n",
              "    <tr>\n",
              "      <th>14</th>\n",
              "      <td>04/05</td>\n",
              "      <td>Premier League</td>\n",
              "      <td>25</td>\n",
              "      <td>02-01-05</td>\n",
              "      <td>A</td>\n",
              "      <td>Manchester United</td>\n",
              "      <td>Arsenal FC</td>\n",
              "      <td>2:04</td>\n",
              "      <td>RW</td>\n",
              "      <td>54</td>\n",
              "      <td>2:02</td>\n",
              "      <td>Left-footed shot</td>\n",
              "      <td>Ryan Giggs</td>\n",
              "    </tr>\n",
              "    <tr>\n",
              "      <th>15</th>\n",
              "      <td>04/05</td>\n",
              "      <td>Premier League</td>\n",
              "      <td>25</td>\n",
              "      <td>02-01-05</td>\n",
              "      <td>A</td>\n",
              "      <td>Manchester United</td>\n",
              "      <td>Arsenal FC</td>\n",
              "      <td>2:04</td>\n",
              "      <td>RW</td>\n",
              "      <td>58</td>\n",
              "      <td>2:03</td>\n",
              "      <td>Tap-in</td>\n",
              "      <td>Ryan Giggs</td>\n",
              "    </tr>\n",
              "    <tr>\n",
              "      <th>16</th>\n",
              "      <td>04/05</td>\n",
              "      <td>FA Cup</td>\n",
              "      <td>Fifth Round</td>\n",
              "      <td>2/19/05</td>\n",
              "      <td>A</td>\n",
              "      <td>Manchester United</td>\n",
              "      <td>Everton FC</td>\n",
              "      <td>0:02</td>\n",
              "      <td>NaN</td>\n",
              "      <td>58</td>\n",
              "      <td>0:02</td>\n",
              "      <td>Tap-in</td>\n",
              "      <td>Paul Scholes</td>\n",
              "    </tr>\n",
              "    <tr>\n",
              "      <th>17</th>\n",
              "      <td>04/05</td>\n",
              "      <td>FA Cup</td>\n",
              "      <td>Sixth Round</td>\n",
              "      <td>03-12-05</td>\n",
              "      <td>A</td>\n",
              "      <td>Manchester United</td>\n",
              "      <td>Southampton FC</td>\n",
              "      <td>0:04</td>\n",
              "      <td>NaN</td>\n",
              "      <td>45+1</td>\n",
              "      <td>0:02</td>\n",
              "      <td>Left-footed shot</td>\n",
              "      <td>Ruud van Nistelrooy</td>\n",
              "    </tr>\n",
              "    <tr>\n",
              "      <th>18</th>\n",
              "      <td>04/05</td>\n",
              "      <td>Premier League</td>\n",
              "      <td>30</td>\n",
              "      <td>3/19/05</td>\n",
              "      <td>H</td>\n",
              "      <td>Manchester United</td>\n",
              "      <td>Fulham FC</td>\n",
              "      <td>1:00</td>\n",
              "      <td>NaN</td>\n",
              "      <td>21</td>\n",
              "      <td>1:00</td>\n",
              "      <td>Right-footed shot</td>\n",
              "      <td>Roy Keane</td>\n",
              "    </tr>\n",
              "    <tr>\n",
              "      <th>19</th>\n",
              "      <td>04/05</td>\n",
              "      <td>FA Cup</td>\n",
              "      <td>Semi-Finals</td>\n",
              "      <td>4/17/05</td>\n",
              "      <td>A</td>\n",
              "      <td>Manchester United</td>\n",
              "      <td>Newcastle United</td>\n",
              "      <td>1:04</td>\n",
              "      <td>RW</td>\n",
              "      <td>76</td>\n",
              "      <td>1:04</td>\n",
              "      <td>Right-footed shot</td>\n",
              "      <td>Ruud van Nistelrooy</td>\n",
              "    </tr>\n",
              "    <tr>\n",
              "      <th>20</th>\n",
              "      <td>05/06</td>\n",
              "      <td>UEFA Champions League Qualifying</td>\n",
              "      <td>3rd round</td>\n",
              "      <td>08-09-05</td>\n",
              "      <td>H</td>\n",
              "      <td>Manchester United</td>\n",
              "      <td>Debreceni VSC</td>\n",
              "      <td>3:00</td>\n",
              "      <td>NaN</td>\n",
              "      <td>63</td>\n",
              "      <td>3:00</td>\n",
              "      <td>Right-footed shot</td>\n",
              "      <td>Paul Scholes</td>\n",
              "    </tr>\n",
              "    <tr>\n",
              "      <th>21</th>\n",
              "      <td>05/06</td>\n",
              "      <td>Premier League</td>\n",
              "      <td>11</td>\n",
              "      <td>10/29/05</td>\n",
              "      <td>A</td>\n",
              "      <td>Manchester United</td>\n",
              "      <td>Middlesbrough FC</td>\n",
              "      <td>4:01</td>\n",
              "      <td>NaN</td>\n",
              "      <td>90</td>\n",
              "      <td>4:01</td>\n",
              "      <td>Header</td>\n",
              "      <td>Paul Scholes</td>\n",
              "    </tr>\n",
              "    <tr>\n",
              "      <th>22</th>\n",
              "      <td>05/06</td>\n",
              "      <td>EFL Cup</td>\n",
              "      <td>Round of 16</td>\n",
              "      <td>11/30/05</td>\n",
              "      <td>H</td>\n",
              "      <td>Manchester United</td>\n",
              "      <td>West Bromwich Albion</td>\n",
              "      <td>3:01</td>\n",
              "      <td>RW</td>\n",
              "      <td>12</td>\n",
              "      <td>1:01</td>\n",
              "      <td>Penalty</td>\n",
              "      <td>NaN</td>\n",
              "    </tr>\n",
              "    <tr>\n",
              "      <th>23</th>\n",
              "      <td>05/06</td>\n",
              "      <td>Premier League</td>\n",
              "      <td>20</td>\n",
              "      <td>12/31/05</td>\n",
              "      <td>H</td>\n",
              "      <td>Manchester United</td>\n",
              "      <td>Bolton Wanderers</td>\n",
              "      <td>4:01</td>\n",
              "      <td>NaN</td>\n",
              "      <td>68</td>\n",
              "      <td>3:01</td>\n",
              "      <td>Right-footed shot</td>\n",
              "      <td>Wayne Rooney</td>\n",
              "    </tr>\n",
              "    <tr>\n",
              "      <th>24</th>\n",
              "      <td>05/06</td>\n",
              "      <td>Premier League</td>\n",
              "      <td>20</td>\n",
              "      <td>12/31/05</td>\n",
              "      <td>H</td>\n",
              "      <td>Manchester United</td>\n",
              "      <td>Bolton Wanderers</td>\n",
              "      <td>4:01</td>\n",
              "      <td>NaN</td>\n",
              "      <td>90</td>\n",
              "      <td>4:01</td>\n",
              "      <td>Left-footed shot</td>\n",
              "      <td>Ruud van Nistelrooy</td>\n",
              "    </tr>\n",
              "    <tr>\n",
              "      <th>25</th>\n",
              "      <td>05/06</td>\n",
              "      <td>Premier League</td>\n",
              "      <td>25</td>\n",
              "      <td>02-04-06</td>\n",
              "      <td>H</td>\n",
              "      <td>Manchester United</td>\n",
              "      <td>Fulham FC</td>\n",
              "      <td>4:02</td>\n",
              "      <td>NaN</td>\n",
              "      <td>14</td>\n",
              "      <td>2:00</td>\n",
              "      <td>Direct free kick</td>\n",
              "      <td>NaN</td>\n",
              "    </tr>\n",
              "  </tbody>\n",
              "</table>\n",
              "</div>\n",
              "      <button class=\"colab-df-convert\" onclick=\"convertToInteractive('df-1c4bbc0f-1f02-4a6e-b79c-6230bf801a5e')\"\n",
              "              title=\"Convert this dataframe to an interactive table.\"\n",
              "              style=\"display:none;\">\n",
              "        \n",
              "  <svg xmlns=\"http://www.w3.org/2000/svg\" height=\"24px\"viewBox=\"0 0 24 24\"\n",
              "       width=\"24px\">\n",
              "    <path d=\"M0 0h24v24H0V0z\" fill=\"none\"/>\n",
              "    <path d=\"M18.56 5.44l.94 2.06.94-2.06 2.06-.94-2.06-.94-.94-2.06-.94 2.06-2.06.94zm-11 1L8.5 8.5l.94-2.06 2.06-.94-2.06-.94L8.5 2.5l-.94 2.06-2.06.94zm10 10l.94 2.06.94-2.06 2.06-.94-2.06-.94-.94-2.06-.94 2.06-2.06.94z\"/><path d=\"M17.41 7.96l-1.37-1.37c-.4-.4-.92-.59-1.43-.59-.52 0-1.04.2-1.43.59L10.3 9.45l-7.72 7.72c-.78.78-.78 2.05 0 2.83L4 21.41c.39.39.9.59 1.41.59.51 0 1.02-.2 1.41-.59l7.78-7.78 2.81-2.81c.8-.78.8-2.07 0-2.86zM5.41 20L4 18.59l7.72-7.72 1.47 1.35L5.41 20z\"/>\n",
              "  </svg>\n",
              "      </button>\n",
              "      \n",
              "  <style>\n",
              "    .colab-df-container {\n",
              "      display:flex;\n",
              "      flex-wrap:wrap;\n",
              "      gap: 12px;\n",
              "    }\n",
              "\n",
              "    .colab-df-convert {\n",
              "      background-color: #E8F0FE;\n",
              "      border: none;\n",
              "      border-radius: 50%;\n",
              "      cursor: pointer;\n",
              "      display: none;\n",
              "      fill: #1967D2;\n",
              "      height: 32px;\n",
              "      padding: 0 0 0 0;\n",
              "      width: 32px;\n",
              "    }\n",
              "\n",
              "    .colab-df-convert:hover {\n",
              "      background-color: #E2EBFA;\n",
              "      box-shadow: 0px 1px 2px rgba(60, 64, 67, 0.3), 0px 1px 3px 1px rgba(60, 64, 67, 0.15);\n",
              "      fill: #174EA6;\n",
              "    }\n",
              "\n",
              "    [theme=dark] .colab-df-convert {\n",
              "      background-color: #3B4455;\n",
              "      fill: #D2E3FC;\n",
              "    }\n",
              "\n",
              "    [theme=dark] .colab-df-convert:hover {\n",
              "      background-color: #434B5C;\n",
              "      box-shadow: 0px 1px 3px 1px rgba(0, 0, 0, 0.15);\n",
              "      filter: drop-shadow(0px 1px 2px rgba(0, 0, 0, 0.3));\n",
              "      fill: #FFFFFF;\n",
              "    }\n",
              "  </style>\n",
              "\n",
              "      <script>\n",
              "        const buttonEl =\n",
              "          document.querySelector('#df-1c4bbc0f-1f02-4a6e-b79c-6230bf801a5e button.colab-df-convert');\n",
              "        buttonEl.style.display =\n",
              "          google.colab.kernel.accessAllowed ? 'block' : 'none';\n",
              "\n",
              "        async function convertToInteractive(key) {\n",
              "          const element = document.querySelector('#df-1c4bbc0f-1f02-4a6e-b79c-6230bf801a5e');\n",
              "          const dataTable =\n",
              "            await google.colab.kernel.invokeFunction('convertToInteractive',\n",
              "                                                     [key], {});\n",
              "          if (!dataTable) return;\n",
              "\n",
              "          const docLinkHtml = 'Like what you see? Visit the ' +\n",
              "            '<a target=\"_blank\" href=https://colab.research.google.com/notebooks/data_table.ipynb>data table notebook</a>'\n",
              "            + ' to learn more about interactive tables.';\n",
              "          element.innerHTML = '';\n",
              "          dataTable['output_type'] = 'display_data';\n",
              "          await google.colab.output.renderOutput(dataTable, element);\n",
              "          const docLink = document.createElement('div');\n",
              "          docLink.innerHTML = docLinkHtml;\n",
              "          element.appendChild(docLink);\n",
              "        }\n",
              "      </script>\n",
              "    </div>\n",
              "  </div>\n",
              "  "
            ]
          },
          "metadata": {},
          "execution_count": 8
        }
      ]
    },
    {
      "cell_type": "code",
      "source": [
        "df.iloc[650:701,1:6]"
      ],
      "metadata": {
        "colab": {
          "base_uri": "https://localhost:8080/",
          "height": 1000
        },
        "id": "7NL1l0g237aR",
        "outputId": "05705f4b-5062-4c8d-a4c3-b6aa77f845e4"
      },
      "execution_count": 9,
      "outputs": [
        {
          "output_type": "execute_result",
          "data": {
            "text/plain": [
              "               Competition     Matchday      Date Venue               Club\n",
              "650                Serie A           11  12/13/20     A        Juventus FC\n",
              "651                Serie A           11  12/13/20     A        Juventus FC\n",
              "652                Serie A           13  12/19/20     A        Juventus FC\n",
              "653                Serie A           13  12/19/20     A        Juventus FC\n",
              "654                Serie A           15  01-03-21     H        Juventus FC\n",
              "655                Serie A           15  01-03-21     H        Juventus FC\n",
              "656                Serie A           17  01-10-21     H        Juventus FC\n",
              "657    Supercoppa Italiana        Final   1/20/21     H        Juventus FC\n",
              "658              Italy Cup  Semi-Finals  02-02-21     A        Juventus FC\n",
              "659              Italy Cup  Semi-Finals  02-02-21     A        Juventus FC\n",
              "660                Serie A           21  02-06-21     H        Juventus FC\n",
              "661                Serie A           23   2/22/21     H        Juventus FC\n",
              "662                Serie A           23   2/22/21     H        Juventus FC\n",
              "663                Serie A           24   2/27/21     A        Juventus FC\n",
              "664                Serie A           25  03-02-21     H        Juventus FC\n",
              "665                Serie A           27   3/14/21     A        Juventus FC\n",
              "666                Serie A           27   3/14/21     A        Juventus FC\n",
              "667                Serie A           27   3/14/21     A        Juventus FC\n",
              "668                Serie A           29  04-03-21     A        Juventus FC\n",
              "669                Serie A            3  04-07-21     H        Juventus FC\n",
              "670                Serie A           34  05-02-21     A        Juventus FC\n",
              "671                Serie A           34  05-02-21     A        Juventus FC\n",
              "672                Serie A           36  05-12-21     A        Juventus FC\n",
              "673                Serie A           37   5/15/21     H        Juventus FC\n",
              "674         Premier League            4  09-11-21     H  Manchester United\n",
              "675         Premier League            4  09-11-21     H  Manchester United\n",
              "676  UEFA Champions League  Group Stage   9/14/21     A  Manchester United\n",
              "677         Premier League            5   9/19/21     A  Manchester United\n",
              "678  UEFA Champions League  Group Stage   9/29/21     H  Manchester United\n",
              "679  UEFA Champions League  Group Stage  10/20/21     H  Manchester United\n",
              "680         Premier League           10  10/30/21     A  Manchester United\n",
              "681  UEFA Champions League  Group Stage  11-02-21     A  Manchester United\n",
              "682  UEFA Champions League  Group Stage  11-02-21     A  Manchester United\n",
              "683  UEFA Champions League  Group Stage  11/23/21     A  Manchester United\n",
              "684         Premier League           14  12-02-21     H  Manchester United\n",
              "685         Premier League           14  12-02-21     H  Manchester United\n",
              "686         Premier League           16  12-11-21     A  Manchester United\n",
              "687         Premier League           20  12/30/21     H  Manchester United\n",
              "688         Premier League           18   2/15/22     H  Manchester United\n",
              "689         Premier League           29  03-12-22     H  Manchester United\n",
              "690         Premier League           29  03-12-22     H  Manchester United\n",
              "691         Premier League           29  03-12-22     H  Manchester United\n",
              "692         Premier League           33   4/16/22     H  Manchester United\n",
              "693         Premier League           33   4/16/22     H  Manchester United\n",
              "694         Premier League           33   4/16/22     H  Manchester United\n",
              "695         Premier League           34   4/23/22     A  Manchester United\n",
              "696         Premier League           37   4/28/22     H  Manchester United\n",
              "697         Premier League           35  05-02-22     H  Manchester United\n",
              "698          Europa League  Group Stage   9/15/22     A  Manchester United\n",
              "699         Premier League           10   10/9/22     A  Manchester United\n",
              "700          Europa League  Group Stage  10/27/22     H  Manchester United"
            ],
            "text/html": [
              "\n",
              "  <div id=\"df-184e5371-17e3-460d-9c25-f53198a78e24\">\n",
              "    <div class=\"colab-df-container\">\n",
              "      <div>\n",
              "<style scoped>\n",
              "    .dataframe tbody tr th:only-of-type {\n",
              "        vertical-align: middle;\n",
              "    }\n",
              "\n",
              "    .dataframe tbody tr th {\n",
              "        vertical-align: top;\n",
              "    }\n",
              "\n",
              "    .dataframe thead th {\n",
              "        text-align: right;\n",
              "    }\n",
              "</style>\n",
              "<table border=\"1\" class=\"dataframe\">\n",
              "  <thead>\n",
              "    <tr style=\"text-align: right;\">\n",
              "      <th></th>\n",
              "      <th>Competition</th>\n",
              "      <th>Matchday</th>\n",
              "      <th>Date</th>\n",
              "      <th>Venue</th>\n",
              "      <th>Club</th>\n",
              "    </tr>\n",
              "  </thead>\n",
              "  <tbody>\n",
              "    <tr>\n",
              "      <th>650</th>\n",
              "      <td>Serie A</td>\n",
              "      <td>11</td>\n",
              "      <td>12/13/20</td>\n",
              "      <td>A</td>\n",
              "      <td>Juventus FC</td>\n",
              "    </tr>\n",
              "    <tr>\n",
              "      <th>651</th>\n",
              "      <td>Serie A</td>\n",
              "      <td>11</td>\n",
              "      <td>12/13/20</td>\n",
              "      <td>A</td>\n",
              "      <td>Juventus FC</td>\n",
              "    </tr>\n",
              "    <tr>\n",
              "      <th>652</th>\n",
              "      <td>Serie A</td>\n",
              "      <td>13</td>\n",
              "      <td>12/19/20</td>\n",
              "      <td>A</td>\n",
              "      <td>Juventus FC</td>\n",
              "    </tr>\n",
              "    <tr>\n",
              "      <th>653</th>\n",
              "      <td>Serie A</td>\n",
              "      <td>13</td>\n",
              "      <td>12/19/20</td>\n",
              "      <td>A</td>\n",
              "      <td>Juventus FC</td>\n",
              "    </tr>\n",
              "    <tr>\n",
              "      <th>654</th>\n",
              "      <td>Serie A</td>\n",
              "      <td>15</td>\n",
              "      <td>01-03-21</td>\n",
              "      <td>H</td>\n",
              "      <td>Juventus FC</td>\n",
              "    </tr>\n",
              "    <tr>\n",
              "      <th>655</th>\n",
              "      <td>Serie A</td>\n",
              "      <td>15</td>\n",
              "      <td>01-03-21</td>\n",
              "      <td>H</td>\n",
              "      <td>Juventus FC</td>\n",
              "    </tr>\n",
              "    <tr>\n",
              "      <th>656</th>\n",
              "      <td>Serie A</td>\n",
              "      <td>17</td>\n",
              "      <td>01-10-21</td>\n",
              "      <td>H</td>\n",
              "      <td>Juventus FC</td>\n",
              "    </tr>\n",
              "    <tr>\n",
              "      <th>657</th>\n",
              "      <td>Supercoppa Italiana</td>\n",
              "      <td>Final</td>\n",
              "      <td>1/20/21</td>\n",
              "      <td>H</td>\n",
              "      <td>Juventus FC</td>\n",
              "    </tr>\n",
              "    <tr>\n",
              "      <th>658</th>\n",
              "      <td>Italy Cup</td>\n",
              "      <td>Semi-Finals</td>\n",
              "      <td>02-02-21</td>\n",
              "      <td>A</td>\n",
              "      <td>Juventus FC</td>\n",
              "    </tr>\n",
              "    <tr>\n",
              "      <th>659</th>\n",
              "      <td>Italy Cup</td>\n",
              "      <td>Semi-Finals</td>\n",
              "      <td>02-02-21</td>\n",
              "      <td>A</td>\n",
              "      <td>Juventus FC</td>\n",
              "    </tr>\n",
              "    <tr>\n",
              "      <th>660</th>\n",
              "      <td>Serie A</td>\n",
              "      <td>21</td>\n",
              "      <td>02-06-21</td>\n",
              "      <td>H</td>\n",
              "      <td>Juventus FC</td>\n",
              "    </tr>\n",
              "    <tr>\n",
              "      <th>661</th>\n",
              "      <td>Serie A</td>\n",
              "      <td>23</td>\n",
              "      <td>2/22/21</td>\n",
              "      <td>H</td>\n",
              "      <td>Juventus FC</td>\n",
              "    </tr>\n",
              "    <tr>\n",
              "      <th>662</th>\n",
              "      <td>Serie A</td>\n",
              "      <td>23</td>\n",
              "      <td>2/22/21</td>\n",
              "      <td>H</td>\n",
              "      <td>Juventus FC</td>\n",
              "    </tr>\n",
              "    <tr>\n",
              "      <th>663</th>\n",
              "      <td>Serie A</td>\n",
              "      <td>24</td>\n",
              "      <td>2/27/21</td>\n",
              "      <td>A</td>\n",
              "      <td>Juventus FC</td>\n",
              "    </tr>\n",
              "    <tr>\n",
              "      <th>664</th>\n",
              "      <td>Serie A</td>\n",
              "      <td>25</td>\n",
              "      <td>03-02-21</td>\n",
              "      <td>H</td>\n",
              "      <td>Juventus FC</td>\n",
              "    </tr>\n",
              "    <tr>\n",
              "      <th>665</th>\n",
              "      <td>Serie A</td>\n",
              "      <td>27</td>\n",
              "      <td>3/14/21</td>\n",
              "      <td>A</td>\n",
              "      <td>Juventus FC</td>\n",
              "    </tr>\n",
              "    <tr>\n",
              "      <th>666</th>\n",
              "      <td>Serie A</td>\n",
              "      <td>27</td>\n",
              "      <td>3/14/21</td>\n",
              "      <td>A</td>\n",
              "      <td>Juventus FC</td>\n",
              "    </tr>\n",
              "    <tr>\n",
              "      <th>667</th>\n",
              "      <td>Serie A</td>\n",
              "      <td>27</td>\n",
              "      <td>3/14/21</td>\n",
              "      <td>A</td>\n",
              "      <td>Juventus FC</td>\n",
              "    </tr>\n",
              "    <tr>\n",
              "      <th>668</th>\n",
              "      <td>Serie A</td>\n",
              "      <td>29</td>\n",
              "      <td>04-03-21</td>\n",
              "      <td>A</td>\n",
              "      <td>Juventus FC</td>\n",
              "    </tr>\n",
              "    <tr>\n",
              "      <th>669</th>\n",
              "      <td>Serie A</td>\n",
              "      <td>3</td>\n",
              "      <td>04-07-21</td>\n",
              "      <td>H</td>\n",
              "      <td>Juventus FC</td>\n",
              "    </tr>\n",
              "    <tr>\n",
              "      <th>670</th>\n",
              "      <td>Serie A</td>\n",
              "      <td>34</td>\n",
              "      <td>05-02-21</td>\n",
              "      <td>A</td>\n",
              "      <td>Juventus FC</td>\n",
              "    </tr>\n",
              "    <tr>\n",
              "      <th>671</th>\n",
              "      <td>Serie A</td>\n",
              "      <td>34</td>\n",
              "      <td>05-02-21</td>\n",
              "      <td>A</td>\n",
              "      <td>Juventus FC</td>\n",
              "    </tr>\n",
              "    <tr>\n",
              "      <th>672</th>\n",
              "      <td>Serie A</td>\n",
              "      <td>36</td>\n",
              "      <td>05-12-21</td>\n",
              "      <td>A</td>\n",
              "      <td>Juventus FC</td>\n",
              "    </tr>\n",
              "    <tr>\n",
              "      <th>673</th>\n",
              "      <td>Serie A</td>\n",
              "      <td>37</td>\n",
              "      <td>5/15/21</td>\n",
              "      <td>H</td>\n",
              "      <td>Juventus FC</td>\n",
              "    </tr>\n",
              "    <tr>\n",
              "      <th>674</th>\n",
              "      <td>Premier League</td>\n",
              "      <td>4</td>\n",
              "      <td>09-11-21</td>\n",
              "      <td>H</td>\n",
              "      <td>Manchester United</td>\n",
              "    </tr>\n",
              "    <tr>\n",
              "      <th>675</th>\n",
              "      <td>Premier League</td>\n",
              "      <td>4</td>\n",
              "      <td>09-11-21</td>\n",
              "      <td>H</td>\n",
              "      <td>Manchester United</td>\n",
              "    </tr>\n",
              "    <tr>\n",
              "      <th>676</th>\n",
              "      <td>UEFA Champions League</td>\n",
              "      <td>Group Stage</td>\n",
              "      <td>9/14/21</td>\n",
              "      <td>A</td>\n",
              "      <td>Manchester United</td>\n",
              "    </tr>\n",
              "    <tr>\n",
              "      <th>677</th>\n",
              "      <td>Premier League</td>\n",
              "      <td>5</td>\n",
              "      <td>9/19/21</td>\n",
              "      <td>A</td>\n",
              "      <td>Manchester United</td>\n",
              "    </tr>\n",
              "    <tr>\n",
              "      <th>678</th>\n",
              "      <td>UEFA Champions League</td>\n",
              "      <td>Group Stage</td>\n",
              "      <td>9/29/21</td>\n",
              "      <td>H</td>\n",
              "      <td>Manchester United</td>\n",
              "    </tr>\n",
              "    <tr>\n",
              "      <th>679</th>\n",
              "      <td>UEFA Champions League</td>\n",
              "      <td>Group Stage</td>\n",
              "      <td>10/20/21</td>\n",
              "      <td>H</td>\n",
              "      <td>Manchester United</td>\n",
              "    </tr>\n",
              "    <tr>\n",
              "      <th>680</th>\n",
              "      <td>Premier League</td>\n",
              "      <td>10</td>\n",
              "      <td>10/30/21</td>\n",
              "      <td>A</td>\n",
              "      <td>Manchester United</td>\n",
              "    </tr>\n",
              "    <tr>\n",
              "      <th>681</th>\n",
              "      <td>UEFA Champions League</td>\n",
              "      <td>Group Stage</td>\n",
              "      <td>11-02-21</td>\n",
              "      <td>A</td>\n",
              "      <td>Manchester United</td>\n",
              "    </tr>\n",
              "    <tr>\n",
              "      <th>682</th>\n",
              "      <td>UEFA Champions League</td>\n",
              "      <td>Group Stage</td>\n",
              "      <td>11-02-21</td>\n",
              "      <td>A</td>\n",
              "      <td>Manchester United</td>\n",
              "    </tr>\n",
              "    <tr>\n",
              "      <th>683</th>\n",
              "      <td>UEFA Champions League</td>\n",
              "      <td>Group Stage</td>\n",
              "      <td>11/23/21</td>\n",
              "      <td>A</td>\n",
              "      <td>Manchester United</td>\n",
              "    </tr>\n",
              "    <tr>\n",
              "      <th>684</th>\n",
              "      <td>Premier League</td>\n",
              "      <td>14</td>\n",
              "      <td>12-02-21</td>\n",
              "      <td>H</td>\n",
              "      <td>Manchester United</td>\n",
              "    </tr>\n",
              "    <tr>\n",
              "      <th>685</th>\n",
              "      <td>Premier League</td>\n",
              "      <td>14</td>\n",
              "      <td>12-02-21</td>\n",
              "      <td>H</td>\n",
              "      <td>Manchester United</td>\n",
              "    </tr>\n",
              "    <tr>\n",
              "      <th>686</th>\n",
              "      <td>Premier League</td>\n",
              "      <td>16</td>\n",
              "      <td>12-11-21</td>\n",
              "      <td>A</td>\n",
              "      <td>Manchester United</td>\n",
              "    </tr>\n",
              "    <tr>\n",
              "      <th>687</th>\n",
              "      <td>Premier League</td>\n",
              "      <td>20</td>\n",
              "      <td>12/30/21</td>\n",
              "      <td>H</td>\n",
              "      <td>Manchester United</td>\n",
              "    </tr>\n",
              "    <tr>\n",
              "      <th>688</th>\n",
              "      <td>Premier League</td>\n",
              "      <td>18</td>\n",
              "      <td>2/15/22</td>\n",
              "      <td>H</td>\n",
              "      <td>Manchester United</td>\n",
              "    </tr>\n",
              "    <tr>\n",
              "      <th>689</th>\n",
              "      <td>Premier League</td>\n",
              "      <td>29</td>\n",
              "      <td>03-12-22</td>\n",
              "      <td>H</td>\n",
              "      <td>Manchester United</td>\n",
              "    </tr>\n",
              "    <tr>\n",
              "      <th>690</th>\n",
              "      <td>Premier League</td>\n",
              "      <td>29</td>\n",
              "      <td>03-12-22</td>\n",
              "      <td>H</td>\n",
              "      <td>Manchester United</td>\n",
              "    </tr>\n",
              "    <tr>\n",
              "      <th>691</th>\n",
              "      <td>Premier League</td>\n",
              "      <td>29</td>\n",
              "      <td>03-12-22</td>\n",
              "      <td>H</td>\n",
              "      <td>Manchester United</td>\n",
              "    </tr>\n",
              "    <tr>\n",
              "      <th>692</th>\n",
              "      <td>Premier League</td>\n",
              "      <td>33</td>\n",
              "      <td>4/16/22</td>\n",
              "      <td>H</td>\n",
              "      <td>Manchester United</td>\n",
              "    </tr>\n",
              "    <tr>\n",
              "      <th>693</th>\n",
              "      <td>Premier League</td>\n",
              "      <td>33</td>\n",
              "      <td>4/16/22</td>\n",
              "      <td>H</td>\n",
              "      <td>Manchester United</td>\n",
              "    </tr>\n",
              "    <tr>\n",
              "      <th>694</th>\n",
              "      <td>Premier League</td>\n",
              "      <td>33</td>\n",
              "      <td>4/16/22</td>\n",
              "      <td>H</td>\n",
              "      <td>Manchester United</td>\n",
              "    </tr>\n",
              "    <tr>\n",
              "      <th>695</th>\n",
              "      <td>Premier League</td>\n",
              "      <td>34</td>\n",
              "      <td>4/23/22</td>\n",
              "      <td>A</td>\n",
              "      <td>Manchester United</td>\n",
              "    </tr>\n",
              "    <tr>\n",
              "      <th>696</th>\n",
              "      <td>Premier League</td>\n",
              "      <td>37</td>\n",
              "      <td>4/28/22</td>\n",
              "      <td>H</td>\n",
              "      <td>Manchester United</td>\n",
              "    </tr>\n",
              "    <tr>\n",
              "      <th>697</th>\n",
              "      <td>Premier League</td>\n",
              "      <td>35</td>\n",
              "      <td>05-02-22</td>\n",
              "      <td>H</td>\n",
              "      <td>Manchester United</td>\n",
              "    </tr>\n",
              "    <tr>\n",
              "      <th>698</th>\n",
              "      <td>Europa League</td>\n",
              "      <td>Group Stage</td>\n",
              "      <td>9/15/22</td>\n",
              "      <td>A</td>\n",
              "      <td>Manchester United</td>\n",
              "    </tr>\n",
              "    <tr>\n",
              "      <th>699</th>\n",
              "      <td>Premier League</td>\n",
              "      <td>10</td>\n",
              "      <td>10/9/22</td>\n",
              "      <td>A</td>\n",
              "      <td>Manchester United</td>\n",
              "    </tr>\n",
              "    <tr>\n",
              "      <th>700</th>\n",
              "      <td>Europa League</td>\n",
              "      <td>Group Stage</td>\n",
              "      <td>10/27/22</td>\n",
              "      <td>H</td>\n",
              "      <td>Manchester United</td>\n",
              "    </tr>\n",
              "  </tbody>\n",
              "</table>\n",
              "</div>\n",
              "      <button class=\"colab-df-convert\" onclick=\"convertToInteractive('df-184e5371-17e3-460d-9c25-f53198a78e24')\"\n",
              "              title=\"Convert this dataframe to an interactive table.\"\n",
              "              style=\"display:none;\">\n",
              "        \n",
              "  <svg xmlns=\"http://www.w3.org/2000/svg\" height=\"24px\"viewBox=\"0 0 24 24\"\n",
              "       width=\"24px\">\n",
              "    <path d=\"M0 0h24v24H0V0z\" fill=\"none\"/>\n",
              "    <path d=\"M18.56 5.44l.94 2.06.94-2.06 2.06-.94-2.06-.94-.94-2.06-.94 2.06-2.06.94zm-11 1L8.5 8.5l.94-2.06 2.06-.94-2.06-.94L8.5 2.5l-.94 2.06-2.06.94zm10 10l.94 2.06.94-2.06 2.06-.94-2.06-.94-.94-2.06-.94 2.06-2.06.94z\"/><path d=\"M17.41 7.96l-1.37-1.37c-.4-.4-.92-.59-1.43-.59-.52 0-1.04.2-1.43.59L10.3 9.45l-7.72 7.72c-.78.78-.78 2.05 0 2.83L4 21.41c.39.39.9.59 1.41.59.51 0 1.02-.2 1.41-.59l7.78-7.78 2.81-2.81c.8-.78.8-2.07 0-2.86zM5.41 20L4 18.59l7.72-7.72 1.47 1.35L5.41 20z\"/>\n",
              "  </svg>\n",
              "      </button>\n",
              "      \n",
              "  <style>\n",
              "    .colab-df-container {\n",
              "      display:flex;\n",
              "      flex-wrap:wrap;\n",
              "      gap: 12px;\n",
              "    }\n",
              "\n",
              "    .colab-df-convert {\n",
              "      background-color: #E8F0FE;\n",
              "      border: none;\n",
              "      border-radius: 50%;\n",
              "      cursor: pointer;\n",
              "      display: none;\n",
              "      fill: #1967D2;\n",
              "      height: 32px;\n",
              "      padding: 0 0 0 0;\n",
              "      width: 32px;\n",
              "    }\n",
              "\n",
              "    .colab-df-convert:hover {\n",
              "      background-color: #E2EBFA;\n",
              "      box-shadow: 0px 1px 2px rgba(60, 64, 67, 0.3), 0px 1px 3px 1px rgba(60, 64, 67, 0.15);\n",
              "      fill: #174EA6;\n",
              "    }\n",
              "\n",
              "    [theme=dark] .colab-df-convert {\n",
              "      background-color: #3B4455;\n",
              "      fill: #D2E3FC;\n",
              "    }\n",
              "\n",
              "    [theme=dark] .colab-df-convert:hover {\n",
              "      background-color: #434B5C;\n",
              "      box-shadow: 0px 1px 3px 1px rgba(0, 0, 0, 0.15);\n",
              "      filter: drop-shadow(0px 1px 2px rgba(0, 0, 0, 0.3));\n",
              "      fill: #FFFFFF;\n",
              "    }\n",
              "  </style>\n",
              "\n",
              "      <script>\n",
              "        const buttonEl =\n",
              "          document.querySelector('#df-184e5371-17e3-460d-9c25-f53198a78e24 button.colab-df-convert');\n",
              "        buttonEl.style.display =\n",
              "          google.colab.kernel.accessAllowed ? 'block' : 'none';\n",
              "\n",
              "        async function convertToInteractive(key) {\n",
              "          const element = document.querySelector('#df-184e5371-17e3-460d-9c25-f53198a78e24');\n",
              "          const dataTable =\n",
              "            await google.colab.kernel.invokeFunction('convertToInteractive',\n",
              "                                                     [key], {});\n",
              "          if (!dataTable) return;\n",
              "\n",
              "          const docLinkHtml = 'Like what you see? Visit the ' +\n",
              "            '<a target=\"_blank\" href=https://colab.research.google.com/notebooks/data_table.ipynb>data table notebook</a>'\n",
              "            + ' to learn more about interactive tables.';\n",
              "          element.innerHTML = '';\n",
              "          dataTable['output_type'] = 'display_data';\n",
              "          await google.colab.output.renderOutput(dataTable, element);\n",
              "          const docLink = document.createElement('div');\n",
              "          docLink.innerHTML = docLinkHtml;\n",
              "          element.appendChild(docLink);\n",
              "        }\n",
              "      </script>\n",
              "    </div>\n",
              "  </div>\n",
              "  "
            ]
          },
          "metadata": {},
          "execution_count": 9
        }
      ]
    },
    {
      "cell_type": "code",
      "source": [
        "df.count()"
      ],
      "metadata": {
        "colab": {
          "base_uri": "https://localhost:8080/"
        },
        "id": "U1OTF-5E5prS",
        "outputId": "ec6cd091-9987-4b70-c001-2d4b1b4d8f09"
      },
      "execution_count": 10,
      "outputs": [
        {
          "output_type": "execute_result",
          "data": {
            "text/plain": [
              "Season              710\n",
              "Competition         710\n",
              "Matchday            710\n",
              "Date                710\n",
              "Venue               710\n",
              "Club                710\n",
              "Opponent            710\n",
              "Result              710\n",
              "Playing_Position    652\n",
              "Minute              710\n",
              "At_score            710\n",
              "Type                695\n",
              "Goal_assist         464\n",
              "dtype: int64"
            ]
          },
          "metadata": {},
          "execution_count": 10
        }
      ]
    },
    {
      "cell_type": "code",
      "source": [
        "df['Club'].nunique()"
      ],
      "metadata": {
        "colab": {
          "base_uri": "https://localhost:8080/"
        },
        "id": "68WUeV1k52Ig",
        "outputId": "2d6aabf9-d5ee-48d1-c551-0c621d2ec565"
      },
      "execution_count": 11,
      "outputs": [
        {
          "output_type": "execute_result",
          "data": {
            "text/plain": [
              "5"
            ]
          },
          "metadata": {},
          "execution_count": 11
        }
      ]
    },
    {
      "cell_type": "code",
      "source": [
        "fx = df['Club'].unique()\n",
        "fx"
      ],
      "metadata": {
        "id": "wNbyN_pX6RZM"
      },
      "execution_count": null,
      "outputs": []
    },
    {
      "cell_type": "code",
      "source": [
        "fy = df.groupby('Club',sort = False).size()\n",
        "fy"
      ],
      "metadata": {
        "colab": {
          "base_uri": "https://localhost:8080/"
        },
        "id": "Amyqchad6z-c",
        "outputId": "f3dec33f-a2ab-4e59-d2a4-ddca4d003f6b"
      },
      "execution_count": 13,
      "outputs": [
        {
          "output_type": "execute_result",
          "data": {
            "text/plain": [
              "Club\n",
              "Sporting CP            5\n",
              "Manchester United    145\n",
              "Real Madrid          450\n",
              "Juventus FC          101\n",
              "Al-Nassr FC            9\n",
              "dtype: int64"
            ]
          },
          "metadata": {},
          "execution_count": 13
        }
      ]
    },
    {
      "cell_type": "code",
      "source": [
        "#3. Data Visualization\n",
        "#Bar graph : CLUB VS GOALS\n",
        "plt.rcParams['figure.figsize'] = [20,7]\n",
        "plt.bar(fx,fy,color=['green','red','mediumblue','dimgray'])\n",
        "plt.title('CLUB VS GOALS',color = \"red\")\n",
        "plt.xlabel('CLUBS',color = \"red\")\n",
        "plt.ylabel('GOALS',color = \"red\")\n",
        "plt.show()"
      ],
      "metadata": {
        "colab": {
          "base_uri": "https://localhost:8080/",
          "height": 560
        },
        "id": "bOancgVqdmuj",
        "outputId": "7bd97ebf-d366-461d-8ae0-313a95964789"
      },
      "execution_count": 14,
      "outputs": [
        {
          "output_type": "display_data",
          "data": {
            "text/plain": [
              "<Figure size 2000x700 with 1 Axes>"
            ],
            "image/png": "[encoded data removed]"
          },
          "metadata": {}
        }
      ]
    },
    {
      "cell_type": "code",
      "source": [
        "#Line graph : CLUB VS GOALS\n",
        "plt.plot(fx,fy,color = \"red\",marker = \"*\",ms =10)\n",
        "plt.title('CLUB VS GOALS',color = \"red\")\n",
        "plt.xlabel('CLUBS',color = \"red\")\n",
        "plt.ylabel('GOALS',color = \"red\")\n",
        "plt.grid(color = \"red\")\n",
        "plt.show()"
      ],
      "metadata": {
        "colab": {
          "base_uri": "https://localhost:8080/",
          "height": 560
        },
        "id": "NBCu6wE5e6NB",
        "outputId": "41d79d5e-4bcf-48f5-da85-cfbe68e81d98"
      },
      "execution_count": 15,
      "outputs": [
        {
          "output_type": "display_data",
          "data": {
            "text/plain": [
              "<Figure size 2000x700 with 1 Axes>"
            ],
            "image/png": "[encoded data removed]"
          },
          "metadata": {}
        }
      ]
    },
    {
      "cell_type": "code",
      "source": [
        "#Scatter Plot : CLUB VS GOALS\n",
        "plt.scatter(fx,fy,color = \"black\",marker = \"*\")\n",
        "plt.title('CLUB VS GOALS',color = \"red\")\n",
        "plt.xlabel('CLUB',color = \"red\")\n",
        "plt.ylabel('GOALS',color = \"red\")\n",
        "plt.grid(color = \"red\")\n",
        "plt.show()"
      ],
      "metadata": {
        "colab": {
          "base_uri": "https://localhost:8080/",
          "height": 560
        },
        "id": "NfPcZJemyLtL",
        "outputId": "740ac274-9695-41b3-ba47-697ba8ebdd18"
      },
      "execution_count": 16,
      "outputs": [
        {
          "output_type": "display_data",
          "data": {
            "text/plain": [
              "<Figure size 2000x700 with 1 Axes>"
            ],
            "image/png": "[encoded data removed]"
          },
          "metadata": {}
        }
      ]
    },
    {
      "cell_type": "code",
      "source": [
        "fx2 = df['Season'].unique()\n",
        "fx2"
      ],
      "metadata": {
        "colab": {
          "base_uri": "https://localhost:8080/"
        },
        "id": "oLdOZk2HfDrx",
        "outputId": "44e02ab5-adfd-4a11-d30d-5d2b47abad7f"
      },
      "execution_count": 17,
      "outputs": [
        {
          "output_type": "execute_result",
          "data": {
            "text/plain": [
              "array(['02/03', '03/04', '04/05', '05/06', '06/07', '07/08', '08/09',\n",
              "       '09/10', '10/11', '11/12', 'Dec-13', '13/14', '14/15', '15/16',\n",
              "       '16/17', '17/18', '18/19', '19/20', '20/21', '21/22', '22/23'],\n",
              "      dtype=object)"
            ]
          },
          "metadata": {},
          "execution_count": 17
        }
      ]
    },
    {
      "cell_type": "code",
      "source": [
        "fy2 = df.groupby('Season',sort = False).size()\n",
        "fy2"
      ],
      "metadata": {
        "colab": {
          "base_uri": "https://localhost:8080/"
        },
        "id": "RKiIUyAcfzsF",
        "outputId": "11f6c962-07bb-4c2e-d419-ca15b540865b"
      },
      "execution_count": 18,
      "outputs": [
        {
          "output_type": "execute_result",
          "data": {
            "text/plain": [
              "Season\n",
              "02/03      5\n",
              "03/04      6\n",
              "04/05      9\n",
              "05/06     12\n",
              "06/07     23\n",
              "07/08     42\n",
              "08/09     26\n",
              "09/10     33\n",
              "10/11     53\n",
              "11/12     60\n",
              "Dec-13    55\n",
              "13/14     51\n",
              "14/15     61\n",
              "15/16     51\n",
              "16/17     42\n",
              "17/18     44\n",
              "18/19     28\n",
              "19/20     37\n",
              "20/21     36\n",
              "21/22     24\n",
              "22/23     12\n",
              "dtype: int64"
            ]
          },
          "metadata": {},
          "execution_count": 18
        }
      ]
    },
    {
      "cell_type": "code",
      "source": [
        "#Bar graph : SEASON VS GOALS\n",
        "plt.bar(fx2,fy2,color = \"red\")\n",
        "plt.title('SEASON VS GOALS',color = \"red\")\n",
        "plt.xlabel('SEASON',color = \"red\")\n",
        "plt.ylabel('GOALS',color = \"red\")\n",
        "plt.grid(color = \"red\")\n",
        "plt.show()"
      ],
      "metadata": {
        "colab": {
          "base_uri": "https://localhost:8080/",
          "height": 563
        },
        "id": "S5-OPA4oi0GQ",
        "outputId": "33bb21d8-62ec-4f62-954e-27efe07764f0"
      },
      "execution_count": 19,
      "outputs": [
        {
          "output_type": "display_data",
          "data": {
            "text/plain": [
              "<Figure size 2000x700 with 1 Axes>"
            ],
            "image/png": "[encoded data removed]"
          },
          "metadata": {}
        }
      ]
    },
    {
      "cell_type": "code",
      "source": [
        "#Line graph : SEASON VS GOALS\n",
        "plt.plot(fx2,fy2,color = \"red\",marker = \"*\",ms =10)\n",
        "plt.title('SEASON VS GOALS',color = \"red\")\n",
        "plt.xlabel('SEASON',color = \"red\")\n",
        "plt.ylabel('GOALS',color = \"red\")\n",
        "plt.grid(color = \"red\")\n",
        "plt.show()"
      ],
      "metadata": {
        "colab": {
          "base_uri": "https://localhost:8080/",
          "height": 563
        },
        "id": "H5sEDmEAf-Cj",
        "outputId": "ecd2b24b-d8e4-4516-80dd-2aae79537d13"
      },
      "execution_count": 20,
      "outputs": [
        {
          "output_type": "display_data",
          "data": {
            "text/plain": [
              "<Figure size 2000x700 with 1 Axes>"
            ],
            "image/png": "[encoded data removed]"
          },
          "metadata": {}
        }
      ]
    },
    {
      "cell_type": "code",
      "source": [
        "#Scatter Plot : SEASON VS GOALS\n",
        "plt.scatter(fx2,fy2,color = \"black\",marker = \"*\")\n",
        "plt.title('SEASON VS GOALS',color = \"red\")\n",
        "plt.xlabel('SEASON',color = \"red\")\n",
        "plt.ylabel('GOALS',color = \"red\")\n",
        "plt.grid(color = \"red\")\n",
        "plt.show()"
      ],
      "metadata": {
        "id": "Ebi66efsqgSx",
        "colab": {
          "base_uri": "https://localhost:8080/",
          "height": 563
        },
        "outputId": "708a2d60-2314-44f4-d66e-8cd0a4e61d59"
      },
      "execution_count": 21,
      "outputs": [
        {
          "output_type": "display_data",
          "data": {
            "text/plain": [
              "<Figure size 2000x700 with 1 Axes>"
            ],
            "image/png": "[encoded data removed]"
          },
          "metadata": {}
        }
      ]
    },
    {
      "cell_type": "markdown",
      "source": [
        "Played Clubs\n",
        "\n",
        "Sporting CP - Manchester United - Real Madrid - Juventus FC"
      ],
      "metadata": {
        "id": "5vh5e6SL0nbp"
      }
    },
    {
      "cell_type": "code",
      "source": [
        "#Dataset : Years - Club - Appearance - Goals\n",
        "mydataset = {\n",
        "             'Team':['Sporting CP','Manchester United','Real Madrid','Juventus FC'],\n",
        "             'Appearance':[31,134,346,438],\n",
        "             'Goals':[5,101,145,450]\n",
        "             }\n",
        "mydataset"
      ],
      "metadata": {
        "id": "TpMMkt2Vprrh",
        "colab": {
          "base_uri": "https://localhost:8080/"
        },
        "outputId": "4d01352d-a529-40d6-b2a3-68d64f9a0b89"
      },
      "execution_count": 23,
      "outputs": [
        {
          "output_type": "execute_result",
          "data": {
            "text/plain": [
              "{'Team': ['Sporting CP', 'Manchester United', 'Real Madrid', 'Juventus FC'],\n",
              " 'Appearance': [31, 134, 346, 438],\n",
              " 'Goals': [5, 101, 145, 450]}"
            ]
          },
          "metadata": {},
          "execution_count": 23
        }
      ]
    },
    {
      "cell_type": "code",
      "source": [
        "df2 = pd.DataFrame(mydataset)\n",
        "df2"
      ],
      "metadata": {
        "colab": {
          "base_uri": "https://localhost:8080/",
          "height": 175
        },
        "id": "MRBFQL5ZFTeI",
        "outputId": "8255f3e0-f8a1-4e1c-ca7d-2ba80a245ae2"
      },
      "execution_count": 24,
      "outputs": [
        {
          "output_type": "execute_result",
          "data": {
            "text/plain": [
              "                Team  Appearance  Goals\n",
              "0        Sporting CP          31      5\n",
              "1  Manchester United         134    101\n",
              "2        Real Madrid         346    145\n",
              "3        Juventus FC         438    450"
            ],
            "text/html": [
              "\n",
              "  <div id=\"df-b11ddb2c-8067-4bd3-83fc-8a4c82e4f87d\">\n",
              "    <div class=\"colab-df-container\">\n",
              "      <div>\n",
              "<style scoped>\n",
              "    .dataframe tbody tr th:only-of-type {\n",
              "        vertical-align: middle;\n",
              "    }\n",
              "\n",
              "    .dataframe tbody tr th {\n",
              "        vertical-align: top;\n",
              "    }\n",
              "\n",
              "    .dataframe thead th {\n",
              "        text-align: right;\n",
              "    }\n",
              "</style>\n",
              "<table border=\"1\" class=\"dataframe\">\n",
              "  <thead>\n",
              "    <tr style=\"text-align: right;\">\n",
              "      <th></th>\n",
              "      <th>Team</th>\n",
              "      <th>Appearance</th>\n",
              "      <th>Goals</th>\n",
              "    </tr>\n",
              "  </thead>\n",
              "  <tbody>\n",
              "    <tr>\n",
              "      <th>0</th>\n",
              "      <td>Sporting CP</td>\n",
              "      <td>31</td>\n",
              "      <td>5</td>\n",
              "    </tr>\n",
              "    <tr>\n",
              "      <th>1</th>\n",
              "      <td>Manchester United</td>\n",
              "      <td>134</td>\n",
              "      <td>101</td>\n",
              "    </tr>\n",
              "    <tr>\n",
              "      <th>2</th>\n",
              "      <td>Real Madrid</td>\n",
              "      <td>346</td>\n",
              "      <td>145</td>\n",
              "    </tr>\n",
              "    <tr>\n",
              "      <th>3</th>\n",
              "      <td>Juventus FC</td>\n",
              "      <td>438</td>\n",
              "      <td>450</td>\n",
              "    </tr>\n",
              "  </tbody>\n",
              "</table>\n",
              "</div>\n",
              "      <button class=\"colab-df-convert\" onclick=\"convertToInteractive('df-b11ddb2c-8067-4bd3-83fc-8a4c82e4f87d')\"\n",
              "              title=\"Convert this dataframe to an interactive table.\"\n",
              "              style=\"display:none;\">\n",
              "        \n",
              "  <svg xmlns=\"http://www.w3.org/2000/svg\" height=\"24px\"viewBox=\"0 0 24 24\"\n",
              "       width=\"24px\">\n",
              "    <path d=\"M0 0h24v24H0V0z\" fill=\"none\"/>\n",
              "    <path d=\"M18.56 5.44l.94 2.06.94-2.06 2.06-.94-2.06-.94-.94-2.06-.94 2.06-2.06.94zm-11 1L8.5 8.5l.94-2.06 2.06-.94-2.06-.94L8.5 2.5l-.94 2.06-2.06.94zm10 10l.94 2.06.94-2.06 2.06-.94-2.06-.94-.94-2.06-.94 2.06-2.06.94z\"/><path d=\"M17.41 7.96l-1.37-1.37c-.4-.4-.92-.59-1.43-.59-.52 0-1.04.2-1.43.59L10.3 9.45l-7.72 7.72c-.78.78-.78 2.05 0 2.83L4 21.41c.39.39.9.59 1.41.59.51 0 1.02-.2 1.41-.59l7.78-7.78 2.81-2.81c.8-.78.8-2.07 0-2.86zM5.41 20L4 18.59l7.72-7.72 1.47 1.35L5.41 20z\"/>\n",
              "  </svg>\n",
              "      </button>\n",
              "      \n",
              "  <style>\n",
              "    .colab-df-container {\n",
              "      display:flex;\n",
              "      flex-wrap:wrap;\n",
              "      gap: 12px;\n",
              "    }\n",
              "\n",
              "    .colab-df-convert {\n",
              "      background-color: #E8F0FE;\n",
              "      border: none;\n",
              "      border-radius: 50%;\n",
              "      cursor: pointer;\n",
              "      display: none;\n",
              "      fill: #1967D2;\n",
              "      height: 32px;\n",
              "      padding: 0 0 0 0;\n",
              "      width: 32px;\n",
              "    }\n",
              "\n",
              "    .colab-df-convert:hover {\n",
              "      background-color: #E2EBFA;\n",
              "      box-shadow: 0px 1px 2px rgba(60, 64, 67, 0.3), 0px 1px 3px 1px rgba(60, 64, 67, 0.15);\n",
              "      fill: #174EA6;\n",
              "    }\n",
              "\n",
              "    [theme=dark] .colab-df-convert {\n",
              "      background-color: #3B4455;\n",
              "      fill: #D2E3FC;\n",
              "    }\n",
              "\n",
              "    [theme=dark] .colab-df-convert:hover {\n",
              "      background-color: #434B5C;\n",
              "      box-shadow: 0px 1px 3px 1px rgba(0, 0, 0, 0.15);\n",
              "      filter: drop-shadow(0px 1px 2px rgba(0, 0, 0, 0.3));\n",
              "      fill: #FFFFFF;\n",
              "    }\n",
              "  </style>\n",
              "\n",
              "      <script>\n",
              "        const buttonEl =\n",
              "          document.querySelector('#df-b11ddb2c-8067-4bd3-83fc-8a4c82e4f87d button.colab-df-convert');\n",
              "        buttonEl.style.display =\n",
              "          google.colab.kernel.accessAllowed ? 'block' : 'none';\n",
              "\n",
              "        async function convertToInteractive(key) {\n",
              "          const element = document.querySelector('#df-b11ddb2c-8067-4bd3-83fc-8a4c82e4f87d');\n",
              "          const dataTable =\n",
              "            await google.colab.kernel.invokeFunction('convertToInteractive',\n",
              "                                                     [key], {});\n",
              "          if (!dataTable) return;\n",
              "\n",
              "          const docLinkHtml = 'Like what you see? Visit the ' +\n",
              "            '<a target=\"_blank\" href=https://colab.research.google.com/notebooks/data_table.ipynb>data table notebook</a>'\n",
              "            + ' to learn more about interactive tables.';\n",
              "          element.innerHTML = '';\n",
              "          dataTable['output_type'] = 'display_data';\n",
              "          await google.colab.output.renderOutput(dataTable, element);\n",
              "          const docLink = document.createElement('div');\n",
              "          docLink.innerHTML = docLinkHtml;\n",
              "          element.appendChild(docLink);\n",
              "        }\n",
              "      </script>\n",
              "    </div>\n",
              "  </div>\n",
              "  "
            ]
          },
          "metadata": {},
          "execution_count": 24
        }
      ]
    },
    {
      "cell_type": "code",
      "source": [
        "df2.info()"
      ],
      "metadata": {
        "colab": {
          "base_uri": "https://localhost:8080/"
        },
        "id": "NxRCIqi_H2RG",
        "outputId": "7f698d3b-6026-4a9d-ccd6-dd64d43d90c8"
      },
      "execution_count": 25,
      "outputs": [
        {
          "output_type": "stream",
          "name": "stdout",
          "text": [
            "<class 'pandas.core.frame.DataFrame'>\n",
            "RangeIndex: 4 entries, 0 to 3\n",
            "Data columns (total 3 columns):\n",
            " #   Column      Non-Null Count  Dtype \n",
            "---  ------      --------------  ----- \n",
            " 0   Team        4 non-null      object\n",
            " 1   Appearance  4 non-null      int64 \n",
            " 2   Goals       4 non-null      int64 \n",
            "dtypes: int64(2), object(1)\n",
            "memory usage: 224.0+ bytes\n"
          ]
        }
      ]
    },
    {
      "cell_type": "code",
      "source": [
        "df2.isnull().sum()"
      ],
      "metadata": {
        "colab": {
          "base_uri": "https://localhost:8080/"
        },
        "id": "3Bt1MuC-IDrG",
        "outputId": "86ad5de5-d3c1-4772-ba8a-9686cc2aaf31"
      },
      "execution_count": 26,
      "outputs": [
        {
          "output_type": "execute_result",
          "data": {
            "text/plain": [
              "Team          0\n",
              "Appearance    0\n",
              "Goals         0\n",
              "dtype: int64"
            ]
          },
          "metadata": {},
          "execution_count": 26
        }
      ]
    },
    {
      "cell_type": "code",
      "source": [
        "#DIVIDE DATA INTO IP/ OP"
      ],
      "metadata": {
        "id": "3p7C96GrGUax"
      },
      "execution_count": 27,
      "outputs": []
    },
    {
      "cell_type": "code",
      "source": [
        "# x = Appearance\n",
        "x = df2.iloc[:,1:2].values\n",
        "x"
      ],
      "metadata": {
        "colab": {
          "base_uri": "https://localhost:8080/"
        },
        "id": "hmV_m6_lGL82",
        "outputId": "001673d3-4c2d-4293-b092-4109c7bca99c"
      },
      "execution_count": 28,
      "outputs": [
        {
          "output_type": "execute_result",
          "data": {
            "text/plain": [
              "array([[ 31],\n",
              "       [134],\n",
              "       [346],\n",
              "       [438]])"
            ]
          },
          "metadata": {},
          "execution_count": 28
        }
      ]
    },
    {
      "cell_type": "code",
      "source": [
        "# y = Goals\n",
        "y = df2.iloc[:,2].values\n",
        "y"
      ],
      "metadata": {
        "colab": {
          "base_uri": "https://localhost:8080/"
        },
        "id": "ajmIt9GSw3PW",
        "outputId": "fb985398-c882-4d03-d33d-0da5400a12c8"
      },
      "execution_count": 29,
      "outputs": [
        {
          "output_type": "execute_result",
          "data": {
            "text/plain": [
              "array([  5, 101, 145, 450])"
            ]
          },
          "metadata": {},
          "execution_count": 29
        }
      ]
    },
    {
      "cell_type": "code",
      "source": [
        "#VISUALIZATION : Line graph\n",
        "plt.plot(x,y,color = \"black\",marker = \"*\")\n",
        "plt.title(\"Club Appearance vs Goals\",color = \"red\")\n",
        "plt.xlabel('Club Appearance',color = \"red\")\n",
        "plt.ylabel('Goals',color = \"red\")\n",
        "plt.grid(color = \"red\")"
      ],
      "metadata": {
        "colab": {
          "base_uri": "https://localhost:8080/",
          "height": 560
        },
        "id": "WO83XRETGtAl",
        "outputId": "c81c6646-5673-44c3-d1cb-d4c92fa5fdc6"
      },
      "execution_count": 30,
      "outputs": [
        {
          "output_type": "display_data",
          "data": {
            "text/plain": [
              "<Figure size 2000x700 with 1 Axes>"
            ],
            "image/png": "[encoded data removed]"
          },
          "metadata": {}
        }
      ]
    },
    {
      "cell_type": "code",
      "source": [
        "#VISUALIZATION : Scatter plot\n",
        "plt.scatter(x,y,color = \"black\",marker = \"*\")\n",
        "plt.title(\"Club Appearance vs Goals\",color = \"red\")\n",
        "plt.xlabel('Club Appearance',color = \"red\")\n",
        "plt.ylabel('Goals',color = \"red\")\n",
        "plt.grid(color = \"red\")"
      ],
      "metadata": {
        "colab": {
          "base_uri": "https://localhost:8080/",
          "height": 560
        },
        "id": "XhpGTeLJY81A",
        "outputId": "b77ef3f0-91f8-40b4-b204-682097dd3074"
      },
      "execution_count": 31,
      "outputs": [
        {
          "output_type": "display_data",
          "data": {
            "text/plain": [
              "<Figure size 2000x700 with 1 Axes>"
            ],
            "image/png": "[encoded data removed]"
          },
          "metadata": {}
        }
      ]
    },
    {
      "cell_type": "code",
      "source": [
        "#RUN A CLASSIFIER/REGRESSOR/CLUSTERER\n",
        "\n",
        "from sklearn.linear_model import LinearRegression\n",
        "model = LinearRegression()\n",
        "#Fit the model\n",
        "model.fit(x,y)"
      ],
      "metadata": {
        "colab": {
          "base_uri": "https://localhost:8080/",
          "height": 74
        },
        "id": "Znoukuu0yOxD",
        "outputId": "0a7bfb8b-8471-4a9c-ab25-c11fd8017766"
      },
      "execution_count": 42,
      "outputs": [
        {
          "output_type": "execute_result",
          "data": {
            "text/plain": [
              "LinearRegression()"
            ],
            "text/html": [
              "<style>#sk-container-id-2 {color: black;background-color: white;}#sk-container-id-2 pre{padding: 0;}#sk-container-id-2 div.sk-toggleable {background-color: white;}#sk-container-id-2 label.sk-toggleable__label {cursor: pointer;display: block;width: 100%;margin-bottom: 0;padding: 0.3em;box-sizing: border-box;text-align: center;}#sk-container-id-2 label.sk-toggleable__label-arrow:before {content: \"▸\";float: left;margin-right: 0.25em;color: #696969;}#sk-container-id-2 label.sk-toggleable__label-arrow:hover:before {color: black;}#sk-container-id-2 div.sk-estimator:hover label.sk-toggleable__label-arrow:before {color: black;}#sk-container-id-2 div.sk-toggleable__content {max-height: 0;max-width: 0;overflow: hidden;text-align: left;background-color: #f0f8ff;}#sk-container-id-2 div.sk-toggleable__content pre {margin: 0.2em;color: black;border-radius: 0.25em;background-color: #f0f8ff;}#sk-container-id-2 input.sk-toggleable__control:checked~div.sk-toggleable__content {max-height: 200px;max-width: 100%;overflow: auto;}#sk-container-id-2 input.sk-toggleable__control:checked~label.sk-toggleable__label-arrow:before {content: \"▾\";}#sk-container-id-2 div.sk-estimator input.sk-toggleable__control:checked~label.sk-toggleable__label {background-color: #d4ebff;}#sk-container-id-2 div.sk-label input.sk-toggleable__control:checked~label.sk-toggleable__label {background-color: #d4ebff;}#sk-container-id-2 input.sk-hidden--visually {border: 0;clip: rect(1px 1px 1px 1px);clip: rect(1px, 1px, 1px, 1px);height: 1px;margin: -1px;overflow: hidden;padding: 0;position: absolute;width: 1px;}#sk-container-id-2 div.sk-estimator {font-family: monospace;background-color: #f0f8ff;border: 1px dotted black;border-radius: 0.25em;box-sizing: border-box;margin-bottom: 0.5em;}#sk-container-id-2 div.sk-estimator:hover {background-color: #d4ebff;}#sk-container-id-2 div.sk-parallel-item::after {content: \"\";width: 100%;border-bottom: 1px solid gray;flex-grow: 1;}#sk-container-id-2 div.sk-label:hover label.sk-toggleable__label {background-color: #d4ebff;}#sk-container-id-2 div.sk-serial::before {content: \"\";position: absolute;border-left: 1px solid gray;box-sizing: border-box;top: 0;bottom: 0;left: 50%;z-index: 0;}#sk-container-id-2 div.sk-serial {display: flex;flex-direction: column;align-items: center;background-color: white;padding-right: 0.2em;padding-left: 0.2em;position: relative;}#sk-container-id-2 div.sk-item {position: relative;z-index: 1;}#sk-container-id-2 div.sk-parallel {display: flex;align-items: stretch;justify-content: center;background-color: white;position: relative;}#sk-container-id-2 div.sk-item::before, #sk-container-id-2 div.sk-parallel-item::before {content: \"\";position: absolute;border-left: 1px solid gray;box-sizing: border-box;top: 0;bottom: 0;left: 50%;z-index: -1;}#sk-container-id-2 div.sk-parallel-item {display: flex;flex-direction: column;z-index: 1;position: relative;background-color: white;}#sk-container-id-2 div.sk-parallel-item:first-child::after {align-self: flex-end;width: 50%;}#sk-container-id-2 div.sk-parallel-item:last-child::after {align-self: flex-start;width: 50%;}#sk-container-id-2 div.sk-parallel-item:only-child::after {width: 0;}#sk-container-id-2 div.sk-dashed-wrapped {border: 1px dashed gray;margin: 0 0.4em 0.5em 0.4em;box-sizing: border-box;padding-bottom: 0.4em;background-color: white;}#sk-container-id-2 div.sk-label label {font-family: monospace;font-weight: bold;display: inline-block;line-height: 1.2em;}#sk-container-id-2 div.sk-label-container {text-align: center;}#sk-container-id-2 div.sk-container {/* jupyter's `normalize.less` sets `[hidden] { display: none; }` but bootstrap.min.css set `[hidden] { display: none !important; }` so we also need the `!important` here to be able to override the default hidden behavior on the sphinx rendered scikit-learn.org. See: https://github.com/scikit-learn/scikit-learn/issues/21755 */display: inline-block !important;position: relative;}#sk-container-id-2 div.sk-text-repr-fallback {display: none;}</style><div id=\"sk-container-id-2\" class=\"sk-top-container\"><div class=\"sk-text-repr-fallback\"><pre>LinearRegression()</pre><b>In a Jupyter environment, please rerun this cell to show the HTML representation or trust the notebook. <br />On GitHub, the HTML representation is unable to render, please try loading this page with nbviewer.org.</b></div><div class=\"sk-container\" hidden><div class=\"sk-item\"><div class=\"sk-estimator sk-toggleable\"><input class=\"sk-toggleable__control sk-hidden--visually\" id=\"sk-estimator-id-2\" type=\"checkbox\" checked><label for=\"sk-estimator-id-2\" class=\"sk-toggleable__label sk-toggleable__label-arrow\">LinearRegression</label><div class=\"sk-toggleable__content\"><pre>LinearRegression()</pre></div></div></div></div></div>"
            ]
          },
          "metadata": {},
          "execution_count": 42
        }
      ]
    },
    {
      "cell_type": "code",
      "source": [
        "#PREDICTED OUTPUT\n",
        "y_pred = model.predict(x)\n",
        "y_pred"
      ],
      "metadata": {
        "colab": {
          "base_uri": "https://localhost:8080/"
        },
        "id": "JGEJ3Sc_zqqg",
        "outputId": "bef09e70-b45f-4cc8-df58-643135969da3"
      },
      "execution_count": 33,
      "outputs": [
        {
          "output_type": "execute_result",
          "data": {
            "text/plain": [
              "array([-10.08650936,  82.46942016, 272.97288675, 355.64420245])"
            ]
          },
          "metadata": {},
          "execution_count": 33
        }
      ]
    },
    {
      "cell_type": "code",
      "source": [
        "#ACTUAL OUTPUT\n",
        "y"
      ],
      "metadata": {
        "colab": {
          "base_uri": "https://localhost:8080/"
        },
        "id": "L2JXw_bRJs_y",
        "outputId": "9cbd8490-831d-4d02-f5a3-298c2d2c02e1"
      },
      "execution_count": 34,
      "outputs": [
        {
          "output_type": "execute_result",
          "data": {
            "text/plain": [
              "array([  5, 101, 145, 450])"
            ]
          },
          "metadata": {},
          "execution_count": 34
        }
      ]
    },
    {
      "cell_type": "code",
      "source": [
        "#COMPARE y and y_pred :\n",
        "#There is a huge difference, implies model is not linear."
      ],
      "metadata": {
        "id": "DJi1xYPdY6xA"
      },
      "execution_count": 35,
      "outputs": []
    },
    {
      "cell_type": "code",
      "source": [
        "#INDIVIDUAL PREDICTION\n",
        "#100 Appearance :\n",
        "model.predict([[100]])"
      ],
      "metadata": {
        "colab": {
          "base_uri": "https://localhost:8080/"
        },
        "id": "zTJMqxsleIk7",
        "outputId": "25e51989-99a4-4fe8-e1cd-7eba1015c6b9"
      },
      "execution_count": 36,
      "outputs": [
        {
          "output_type": "execute_result",
          "data": {
            "text/plain": [
              "array([51.91697741])"
            ]
          },
          "metadata": {},
          "execution_count": 36
        }
      ]
    },
    {
      "cell_type": "code",
      "source": [
        "#CROSS VERIFICATION\n",
        "#y = mx + c"
      ],
      "metadata": {
        "id": "kt4DV36Rf_Dp"
      },
      "execution_count": 37,
      "outputs": []
    },
    {
      "cell_type": "code",
      "source": [
        "#Slope (m)\n",
        "m = model.coef_\n",
        "m"
      ],
      "metadata": {
        "colab": {
          "base_uri": "https://localhost:8080/"
        },
        "id": "gXGEXM9kfU7b",
        "outputId": "12f47e19-1e28-463e-d745-769cce62f70c"
      },
      "execution_count": 38,
      "outputs": [
        {
          "output_type": "execute_result",
          "data": {
            "text/plain": [
              "array([0.89860126])"
            ]
          },
          "metadata": {},
          "execution_count": 38
        }
      ]
    },
    {
      "cell_type": "code",
      "source": [
        "#Y- Intercept (c)\n",
        "c = model.intercept_\n",
        "c"
      ],
      "metadata": {
        "colab": {
          "base_uri": "https://localhost:8080/"
        },
        "id": "f0rq7T9rfxrN",
        "outputId": "bbac43b5-e04b-4736-a3ec-9f6cf4e55ba8"
      },
      "execution_count": 39,
      "outputs": [
        {
          "output_type": "execute_result",
          "data": {
            "text/plain": [
              "-37.94314834550582"
            ]
          },
          "metadata": {},
          "execution_count": 39
        }
      ]
    },
    {
      "cell_type": "code",
      "source": [
        "# y = mx + c\n",
        "m*100 +c"
      ],
      "metadata": {
        "colab": {
          "base_uri": "https://localhost:8080/"
        },
        "id": "-UYn_I5Ef184",
        "outputId": "c39f4d98-228f-4e53-f91c-8f25534fe899"
      },
      "execution_count": 40,
      "outputs": [
        {
          "output_type": "execute_result",
          "data": {
            "text/plain": [
              "array([51.91697741])"
            ]
          },
          "metadata": {},
          "execution_count": 40
        }
      ]
    },
    {
      "cell_type": "code",
      "source": [
        "#Visualization  for the best fit line\n",
        "plt.scatter(x,y)\n",
        "plt.plot(x,y_pred,c='red')\n",
        "plt.title('BEST FIT LINE')\n",
        "plt.xlabel('Club Appearance')\n",
        "plt.ylabel('Goals')\n"
      ],
      "metadata": {
        "colab": {
          "base_uri": "https://localhost:8080/",
          "height": 577
        },
        "id": "tOi0LLVzgaa0",
        "outputId": "0ba4fa21-f7ce-47cc-8747-a243ad553fba"
      },
      "execution_count": 41,
      "outputs": [
        {
          "output_type": "execute_result",
          "data": {
            "text/plain": [
              "Text(0, 0.5, 'Goals')"
            ]
          },
          "metadata": {},
          "execution_count": 41
        },
        {
          "output_type": "display_data",
          "data": {
            "text/plain": [
              "<Figure size 2000x700 with 1 Axes>"
            ],
            "image/png": "[encoded data removed]"
          },
          "metadata": {}
        }
      ]
    }
  ]
}